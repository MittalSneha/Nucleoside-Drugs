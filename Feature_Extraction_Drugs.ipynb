{
  "nbformat": 4,
  "nbformat_minor": 0,
  "metadata": {
    "colab": {
      "provenance": [],
      "authorship_tag": "ABX9TyONV/RMgAwkGk0BI0fWO2++",
      "include_colab_link": true
    },
    "kernelspec": {
      "name": "python3",
      "display_name": "Python 3"
    },
    "language_info": {
      "name": "python"
    }
  },
  "cells": [
    {
      "cell_type": "markdown",
      "metadata": {
        "id": "view-in-github",
        "colab_type": "text"
      },
      "source": [
        "<a href=\"https://colab.research.google.com/github/MittalSneha/Nucleoside-Drugs/blob/main/Feature_Extraction_Drugs.ipynb\" target=\"_parent\"><img src=\"https://colab.research.google.com/assets/colab-badge.svg\" alt=\"Open In Colab\"/></a>"
      ]
    },
    {
      "cell_type": "code",
      "source": [
        "import pandas as pd\n",
        "import numpy as np\n",
        "\n",
        "# Load the data from an Excel file (replace 'data_file.xlsx' with your file name)\n",
        "# Assume the transmission data is in a column named 'Transmission'\n",
        "df = pd.read_excel('Data.xlsx')\n",
        "\n",
        "# Calculate necessary columns\n",
        "df['T'] = df['Transmission']\n",
        "df['T_max'] = df['T'].max()\n",
        "df['T_min'] = df['T'].min()\n",
        "df['T_avg'] = df['T'].mean()\n",
        "\n",
        "# F1: Transmission (T)\n",
        "df['F1'] = df['T']\n",
        "\n",
        "# F2: T / T_max\n",
        "df['F2'] = df['T'] / df['T_max']\n",
        "\n",
        "# F3: T / T_min\n",
        "df['F3'] = df['T'] / df['T_min']\n",
        "\n",
        "# F4: T / T_avg\n",
        "df['F4'] = df['T'] / df['T_avg']\n",
        "\n",
        "# Calculate differences and ratios between consecutive peaks\n",
        "df['Height'] = df['T'].diff().abs().shift(-1)\n",
        "df['Levels'] = df['T'] / df['T'].shift(-1)\n",
        "\n",
        "# F5: Height (H)\n",
        "df['F5'] = df['Height']\n",
        "\n",
        "# F6: Levels (L)\n",
        "df['F6'] = df['Levels']\n",
        "\n",
        "# F7: T / Height\n",
        "df['F7'] = df['T'] / df['Height']\n",
        "\n",
        "# F8: T / Level\n",
        "df['F8'] = df['T'] / df['Levels']\n",
        "\n",
        "# Assuming energy data is in a column named 'Energy'\n",
        "# Replace with actual column name or data\n",
        "df['E'] = df['Energy'].abs()  # Taking absolute values of energy\n",
        "\n",
        "# F9: E / Transmission\n",
        "df['F9'] = df['E'] / df['T']\n",
        "\n",
        "# F10: E / Height\n",
        "df['F10'] = df['E'] / df['Height']\n",
        "\n",
        "# F11: E / Level\n",
        "df['F11'] = df['E'] / df['Levels']\n",
        "\n",
        "# F12: E / (T / Height)\n",
        "df['F12'] = df['E'] / (df['T'] / df['Height'])\n",
        "\n",
        "# F13: E / (T / Level)\n",
        "df['F13'] = df['E'] / (df['T'] / df['Levels'])\n",
        "\n",
        "# Drop rows with NaN values that resulted from calculations\n",
        "df = df.dropna()\n",
        "\n",
        "# Select only the feature columns to save\n",
        "feature_columns = ['F1', 'F2', 'F3', 'F4', 'F5', 'F6', 'F7', 'F8', 'F9', 'F10', 'F11', 'F12', 'F13']\n",
        "df_features = df[feature_columns]\n",
        "\n",
        "# Save the features to an Excel file\n",
        "df_features.to_excel('features.xlsx', index=False)\n"
      ],
      "metadata": {
        "id": "HZSmSzc53SJT"
      },
      "execution_count": 10,
      "outputs": []
    }
  ]
}